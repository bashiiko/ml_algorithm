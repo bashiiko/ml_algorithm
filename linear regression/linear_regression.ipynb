{
 "cells": [
  {
   "cell_type": "markdown",
   "metadata": {},
   "source": [
    "# 自作線形回帰関数\n",
    "## 単回帰分析\n",
    "$y=w_0x+w_1$として，重み$w_0,w_1$を求める \\\n",
    "正解データに対する推定値の誤差は，二乗誤差関数を用いて \n",
    "\\begin{equation}\n",
    "E=\\sum_i{(y_i-(w_0x_i+w_1))^2}\n",
    "\\end{equation}\n",
    "誤差$E$の最小値は，$E$について偏微分し，0になる点 \\\n",
    "\\begin{equation}\n",
    "\\left\\{\n",
    "\\begin{aligned}\n",
    "&\\frac{\\partial E}{\\partial w_0} = -2\\sum_i{(y_i-w_0x_i-w_1)x_i} = 0  & (1)\\\\\n",
    "&\\frac{\\partial E}{\\partial w_1} = -2\\sum_i{y_i-w_0x_i-w_1} = 0 & (2)\n",
    "\\end{aligned}\n",
    "\\right.\n",
    "\\end{equation}\n",
    "(2)より，$\\sum_i^n{x_i}/n = \\bar{x}, \\sum_i^n{y_i}/n = \\bar{y}$とすると\n",
    "\\begin{equation}\n",
    "\\sum_i^n{y_i}-w_0\\sum_i^n{x_i} - nw_1 = 0 \\\\\n",
    "w_1 = \\bar{y} - w_0\\bar{x}\n",
    "\\end{equation}\n",
    "これを(1)に代入すると\n",
    "\\begin{equation}\n",
    "\\sum_i{y_ix_i} -\\sum_i{w_0x_i^2} - \\sum_i{(\\bar{y}-w_0\\bar{x})x_i} \\\\\n",
    "= \\sum_i{y_ix_i} - \\bar{y} \\cdot n \\bar{x} -w_0(\\sum_i{x_i^2} - \\bar{x} \\cdot n \\bar{x}) \\\\\n",
    "= \\sum_i{y_ix_i} - n \\bar{x}\\bar{y} -w_0(\\sum_i{x_i^2} - n \\bar{x}^2)=0\n",
    "\\end{equation}\n",
    "ここで，\n",
    "\\begin{equation}\n",
    "\\sum_i{x_i\\bar{y}}=\\bar{y}\\cdot n\\bar{x} = \\sum_i{\\bar{x}y_i} = \\sum_i{\\bar{x}\\bar{y}}\n",
    "\\end{equation}\n",
    "上式を使って(1)式はさらに変形すると\n",
    "\\begin{equation}\n",
    "w_0 = \\frac{\\sum_i{y_ix_i} - n \\bar{x}\\bar{y}}{\\sum_i{x_i^2} - n \\bar{x}^2} \n",
    "=  \\frac{\\sum_i{(x_i - \\bar{x})(y_i - \\bar{y})}}{\\sum_i{(x_i -  \\bar{x})^2}}\n",
    "\\end{equation}\n",
    "分散$S_{xx}$，共分散$S_{xy}$を用いて表すことができる．\n",
    "\\begin{equation}\n",
    "w_0 = \\frac{S_{xy}}{S_{xx}} \\\\\n",
    "S_{xx} = \\frac{1}{n}\\sum_i{(x_i -  \\bar{x})^2} \\\\\n",
    "S_{xy} = \\frac{1}{n}\\sum_i{(x_i - \\bar{x})(y_i - \\bar{y})}\n",
    "\\end{equation}\n",
    "また，\n",
    "\\begin{equation}\n",
    "w_1 =  \\bar{y} - w_0\\bar{x} = \\bar{y} - \\frac{S_{xy}}{S_{xx}}\\bar{x} \\\\\n",
    "\\end{equation}"
   ]
  },
  {
   "cell_type": "code",
   "execution_count": 40,
   "metadata": {},
   "outputs": [],
   "source": [
    "import numpy as np\n",
    "\n",
    "class LinearRegression(object):\n",
    "    def __init__(self):\n",
    "        self.weight = []\n",
    "    \n",
    "    def fit(self, data, target):\n",
    "        self.data = data\n",
    "        self.target = target\n",
    "        self.least_square_method()\n",
    "    \n",
    "    def least_square_method(self):\n",
    "        cov = np.cov([self.data, self.target])\n",
    "        print(cov)\n",
    "        self.weight.append(cov[0,1] / cov[0,0])\n",
    "        self.weight.append(np.mean(self.target) - self.weight[0] * np.mean(self.data))\n",
    "\n",
    "    def predict(self, samples):\n",
    "        pred = []\n",
    "        for s in samples:\n",
    "            pred.append(self.weight[0] * s + self.weight[1])\n",
    "            \n",
    "        return np.array(pred, dtype='float')\n",
    "            \n",
    "    def score(self, sample, target):\n",
    "        return np.mean((self.predict(sample) - target)**2)\n",
    "        \n",
    "         "
   ]
  },
  {
   "cell_type": "markdown",
   "metadata": {},
   "source": [
    "# scikit-learnのライブラリを使用した場合と結果を比較"
   ]
  },
  {
   "cell_type": "code",
   "execution_count": 1,
   "metadata": {},
   "outputs": [],
   "source": [
    "# ボストン住宅価格データセットの読み込み\n",
    "from sklearn.datasets import load_boston\n",
    "boston = load_boston()"
   ]
  },
  {
   "cell_type": "code",
   "execution_count": 14,
   "metadata": {
    "collapsed": true,
    "jupyter": {
     "outputs_hidden": true
    }
   },
   "outputs": [
    {
     "name": "stdout",
     "output_type": "stream",
     "text": [
      ".. _boston_dataset:\n",
      "\n",
      "Boston house prices dataset\n",
      "---------------------------\n",
      "\n",
      "**Data Set Characteristics:**  \n",
      "\n",
      "    :Number of Instances: 506 \n",
      "\n",
      "    :Number of Attributes: 13 numeric/categorical predictive. Median Value (attribute 14) is usually the target.\n",
      "\n",
      "    :Attribute Information (in order):\n",
      "        - CRIM     per capita crime rate by town\n",
      "        - ZN       proportion of residential land zoned for lots over 25,000 sq.ft.\n",
      "        - INDUS    proportion of non-retail business acres per town\n",
      "        - CHAS     Charles River dummy variable (= 1 if tract bounds river; 0 otherwise)\n",
      "        - NOX      nitric oxides concentration (parts per 10 million)\n",
      "        - RM       average number of rooms per dwelling\n",
      "        - AGE      proportion of owner-occupied units built prior to 1940\n",
      "        - DIS      weighted distances to five Boston employment centres\n",
      "        - RAD      index of accessibility to radial highways\n",
      "        - TAX      full-value property-tax rate per $10,000\n",
      "        - PTRATIO  pupil-teacher ratio by town\n",
      "        - B        1000(Bk - 0.63)^2 where Bk is the proportion of blacks by town\n",
      "        - LSTAT    % lower status of the population\n",
      "        - MEDV     Median value of owner-occupied homes in $1000's\n",
      "\n",
      "    :Missing Attribute Values: None\n",
      "\n",
      "    :Creator: Harrison, D. and Rubinfeld, D.L.\n",
      "\n",
      "This is a copy of UCI ML housing dataset.\n",
      "https://archive.ics.uci.edu/ml/machine-learning-databases/housing/\n",
      "\n",
      "\n",
      "This dataset was taken from the StatLib library which is maintained at Carnegie Mellon University.\n",
      "\n",
      "The Boston house-price data of Harrison, D. and Rubinfeld, D.L. 'Hedonic\n",
      "prices and the demand for clean air', J. Environ. Economics & Management,\n",
      "vol.5, 81-102, 1978.   Used in Belsley, Kuh & Welsch, 'Regression diagnostics\n",
      "...', Wiley, 1980.   N.B. Various transformations are used in the table on\n",
      "pages 244-261 of the latter.\n",
      "\n",
      "The Boston house-price data has been used in many machine learning papers that address regression\n",
      "problems.   \n",
      "     \n",
      ".. topic:: References\n",
      "\n",
      "   - Belsley, Kuh & Welsch, 'Regression diagnostics: Identifying Influential Data and Sources of Collinearity', Wiley, 1980. 244-261.\n",
      "   - Quinlan,R. (1993). Combining Instance-Based and Model-Based Learning. In Proceedings on the Tenth International Conference of Machine Learning, 236-243, University of Massachusetts, Amherst. Morgan Kaufmann.\n",
      "\n"
     ]
    }
   ],
   "source": [
    "print(boston.DESCR)"
   ]
  },
  {
   "cell_type": "code",
   "execution_count": 28,
   "metadata": {
    "collapsed": true,
    "jupyter": {
     "outputs_hidden": true
    }
   },
   "outputs": [
    {
     "name": "stdout",
     "output_type": "stream",
     "text": [
      "        CRIM    ZN  INDUS  CHAS    NOX     RM   AGE     DIS  RAD    TAX  \\\n",
      "0    0.00632  18.0   2.31   0.0  0.538  6.575  65.2  4.0900  1.0  296.0   \n",
      "1    0.02731   0.0   7.07   0.0  0.469  6.421  78.9  4.9671  2.0  242.0   \n",
      "2    0.02729   0.0   7.07   0.0  0.469  7.185  61.1  4.9671  2.0  242.0   \n",
      "3    0.03237   0.0   2.18   0.0  0.458  6.998  45.8  6.0622  3.0  222.0   \n",
      "4    0.06905   0.0   2.18   0.0  0.458  7.147  54.2  6.0622  3.0  222.0   \n",
      "..       ...   ...    ...   ...    ...    ...   ...     ...  ...    ...   \n",
      "501  0.06263   0.0  11.93   0.0  0.573  6.593  69.1  2.4786  1.0  273.0   \n",
      "502  0.04527   0.0  11.93   0.0  0.573  6.120  76.7  2.2875  1.0  273.0   \n",
      "503  0.06076   0.0  11.93   0.0  0.573  6.976  91.0  2.1675  1.0  273.0   \n",
      "504  0.10959   0.0  11.93   0.0  0.573  6.794  89.3  2.3889  1.0  273.0   \n",
      "505  0.04741   0.0  11.93   0.0  0.573  6.030  80.8  2.5050  1.0  273.0   \n",
      "\n",
      "     PTRATIO       B  LSTAT  \n",
      "0       15.3  396.90   4.98  \n",
      "1       17.8  396.90   9.14  \n",
      "2       17.8  392.83   4.03  \n",
      "3       18.7  394.63   2.94  \n",
      "4       18.7  396.90   5.33  \n",
      "..       ...     ...    ...  \n",
      "501     21.0  391.99   9.67  \n",
      "502     21.0  396.90   9.08  \n",
      "503     21.0  396.90   5.64  \n",
      "504     21.0  393.45   6.48  \n",
      "505     21.0  396.90   7.88  \n",
      "\n",
      "[506 rows x 13 columns]\n"
     ]
    }
   ],
   "source": [
    "import pandas as pd\n",
    "boston_df = pd.DataFrame(boston.data, columns=boston.feature_names)\n",
    "print(boston_df)"
   ]
  },
  {
   "cell_type": "code",
   "execution_count": 41,
   "metadata": {},
   "outputs": [
    {
     "name": "stdout",
     "output_type": "stream",
     "text": [
      "[[6.3200e-03 2.7310e-02 2.7290e-02 ... 6.0760e-02 1.0959e-01 4.7410e-02]\n",
      " [2.4000e+01 2.1600e+01 3.4700e+01 ... 2.3900e+01 2.2000e+01 1.1900e+01]]\n",
      "original model's score\n",
      "1728.1823043410632\n",
      "scikit-learn model's score\n",
      "71.69073588196659\n"
     ]
    }
   ],
   "source": [
    "from sklearn import linear_model as lr\n",
    "\n",
    "data = boston_df['CRIM'].values\n",
    "\n",
    "## original model\n",
    "clf_m = LinearRegression()\n",
    "clf_m.fit(data, boston.target)\n",
    "\n",
    "## scikit-learn model\n",
    "clf_s = lr.LinearRegression()\n",
    "clf_s = clf_s.fit(data.reshape(-1,1), boston.target)\n",
    "\n",
    "## predict\n",
    "pred_score = clf_m.score(data, boston.target)\n",
    "predicted = clf_s.predict(data.reshape(-1,1))\n",
    "\n",
    "print(\"original model's score\")\n",
    "print(pred_score)\n",
    "\n",
    "print(\"scikit-learn model's score\")\n",
    "print(np.mean((predicted - boston.target)**2))\n"
   ]
  },
  {
   "cell_type": "code",
   "execution_count": 37,
   "metadata": {},
   "outputs": [
    {
     "data": {
      "text/plain": [
       "3.613523557312254"
      ]
     },
     "execution_count": 37,
     "metadata": {},
     "output_type": "execute_result"
    }
   ],
   "source": [
    "data.mean()"
   ]
  }
 ],
 "metadata": {
  "kernelspec": {
   "display_name": "Python 3",
   "language": "python",
   "name": "python3"
  },
  "language_info": {
   "codemirror_mode": {
    "name": "ipython",
    "version": 3
   },
   "file_extension": ".py",
   "mimetype": "text/x-python",
   "name": "python",
   "nbconvert_exporter": "python",
   "pygments_lexer": "ipython3",
   "version": "3.7.3"
  }
 },
 "nbformat": 4,
 "nbformat_minor": 4
}
